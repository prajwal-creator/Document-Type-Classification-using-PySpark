{
 "cells": [
  {
   "cell_type": "markdown",
   "id": "fa510c92",
   "metadata": {},
   "source": [
    "### Text Classification with PySpark\n",
    "#### MultiClass Text Classification\n",
    "\n",
    "#### Task\n",
    "+ predict the subject category given a course title or text\n",
    "\n",
    "#### Pyspark\n",
    "+ pipenv install pyspark\n"
   ]
  },
  {
   "cell_type": "code",
   "execution_count": 1,
   "id": "6c17a8b9",
   "metadata": {},
   "outputs": [],
   "source": [
    "import os\n",
    "import findspark"
   ]
  },
  {
   "cell_type": "code",
   "execution_count": 2,
   "id": "5ff03f17",
   "metadata": {},
   "outputs": [],
   "source": [
    "findspark.init()\n",
    "from pyspark.sql import SparkSession\n",
    "spark=SparkSession.builder.master(\"local[*]\").getOrCreate()"
   ]
  },
  {
   "cell_type": "code",
   "execution_count": 3,
   "id": "63b4a63f",
   "metadata": {},
   "outputs": [],
   "source": [
    "spark = SparkSession.builder.appName(\"TextClassifierwithPySpark\").getOrCreate()"
   ]
  },
  {
   "cell_type": "code",
   "execution_count": 4,
   "id": "6ea699f3",
   "metadata": {},
   "outputs": [],
   "source": [
    "# Load Our Dataset\n",
    "df = spark.read.csv(\"udemy_courses_clean.csv\",header=True,inferSchema=True)"
   ]
  },
  {
   "cell_type": "code",
   "execution_count": 5,
   "id": "576c8615",
   "metadata": {
    "jupyter": {
     "outputs_hidden": true
    },
    "tags": []
   },
   "outputs": [
    {
     "name": "stdout",
     "output_type": "stream",
     "text": [
      "+---+---------+--------------------+--------------------+-------+-----+---------------+-----------+------------+------------------+----------------+--------------------+----------------+--------------------+\n",
      "|_c0|course_id|        course_title|                 url|is_paid|price|num_subscribers|num_reviews|num_lectures|             level|content_duration| published_timestamp|         subject|  clean_course_title|\n",
      "+---+---------+--------------------+--------------------+-------+-----+---------------+-----------+------------+------------------+----------------+--------------------+----------------+--------------------+\n",
      "|  0|  1070968|Ultimate Investme...|https://www.udemy...|   True|  200|           2147|         23|          51|        All Levels|       1.5 hours|2017-01-18T20:58:58Z|Business Finance|Ultimate Investme...|\n",
      "|  1|  1113822|Complete GST Cour...|https://www.udemy...|   True|   75|           2792|        923|         274|        All Levels|        39 hours|2017-03-09T16:34:20Z|Business Finance|Complete GST Cour...|\n",
      "|  2|  1006314|Financial Modelin...|https://www.udemy...|   True|   45|           2174|         74|          51|Intermediate Level|       2.5 hours|2016-12-19T19:26:30Z|Business Finance|Financial Modelin...|\n",
      "|  3|  1210588|Beginner to Pro -...|https://www.udemy...|   True|   95|           2451|         11|          36|        All Levels|         3 hours|2017-05-30T20:07:24Z|Business Finance|Beginner Pro  Fin...|\n",
      "|  4|  1011058|How To Maximize Y...|https://www.udemy...|   True|  200|           1276|         45|          26|Intermediate Level|         2 hours|2016-12-13T14:57:18Z|Business Finance|Maximize Profits ...|\n",
      "|  5|   192870|Trading Penny Sto...|https://www.udemy...|   True|  150|           9221|        138|          25|        All Levels|         3 hours|2014-05-02T15:13:30Z|Business Finance|Trading Penny Sto...|\n",
      "|  6|   739964|Investing And Tra...|https://www.udemy...|   True|   65|           1540|        178|          26|    Beginner Level|          1 hour|2016-02-21T18:23:12Z|Business Finance|Investing Trading...|\n",
      "|  7|   403100|Trading Stock Cha...|https://www.udemy...|   True|   95|           2917|        148|          23|        All Levels|       2.5 hours|2015-01-30T22:13:03Z|Business Finance|Trading Stock Cha...|\n",
      "|  8|   476268|Options Trading 3...|https://www.udemy...|   True|  195|           5172|         34|          38|      Expert Level|       2.5 hours|2015-05-28T00:14:03Z|Business Finance|Options Trading 3...|\n",
      "|  9|  1167710|The Only Investme...|https://www.udemy...|   True|  200|            827|         14|          15|        All Levels|          1 hour|2017-04-18T18:13:32Z|Business Finance|Investment Strate...|\n",
      "| 10|   592338|Forex Trading Sec...|https://www.udemy...|   True|  200|           4284|         93|          76|        All Levels|         5 hours|2015-09-11T16:47:02Z|Business Finance|Forex Trading Sec...|\n",
      "| 11|   975046|Trading Options W...|https://www.udemy...|   True|  200|           1380|         42|          17|        All Levels|          1 hour|2016-10-18T22:52:31Z|Business Finance|Trading Options M...|\n",
      "| 12|   742602|Financial Managem...|https://www.udemy...|   True|   30|           3607|         21|          19|        All Levels|       1.5 hours|2016-02-03T18:04:01Z|Business Finance|Financial Managem...|\n",
      "| 13|   794151|Forex Trading Cou...|https://www.udemy...|   True|  195|           4061|         52|          16|        All Levels|         2 hours|2016-03-16T15:40:19Z|Business Finance|Forex Trading Cou...|\n",
      "| 14|  1196544|Python Algo Tradi...|https://www.udemy...|   True|  200|            294|         19|          42|        All Levels|         7 hours|2017-04-28T16:41:44Z|Business Finance|Python Algo Tradi...|\n",
      "| 15|   504036|Short Selling: Le...|https://www.udemy...|   True|   75|           2276|        106|          19|Intermediate Level|       1.5 hours|2015-06-22T21:18:35Z|Business Finance|Short Selling Lea...|\n",
      "| 16|   719698|Basic Technical A...|https://www.udemy...|   True|   20|           4919|         79|          16|    Beginner Level|       1.5 hours|2016-01-08T17:21:26Z|Business Finance|Basic Technical A...|\n",
      "| 17|   564966|The Complete Char...|https://www.udemy...|   True|  200|           2666|        115|          52|        All Levels|         4 hours|2015-08-10T21:07:35Z|Business Finance|Complete Chart Pa...|\n",
      "| 18|   606928|7 Deadly Mistakes...|https://www.udemy...|   True|   50|           5354|         24|          23|        All Levels|       1.5 hours|2015-09-21T18:10:34Z|Business Finance|7 Deadly Mistakes...|\n",
      "| 19|    58977|Financial Stateme...|https://www.udemy...|   True|   95|           8095|        249|          12|    Beginner Level|         35 mins|2013-06-09T00:21:26Z|Business Finance|Financial Stateme...|\n",
      "+---+---------+--------------------+--------------------+-------+-----+---------------+-----------+------------+------------------+----------------+--------------------+----------------+--------------------+\n",
      "only showing top 20 rows\n",
      "\n"
     ]
    }
   ],
   "source": [
    "df.show()"
   ]
  },
  {
   "cell_type": "code",
   "execution_count": 6,
   "id": "ec2647cb",
   "metadata": {},
   "outputs": [
    {
     "data": {
      "text/plain": [
       "['_c0',\n",
       " 'course_id',\n",
       " 'course_title',\n",
       " 'url',\n",
       " 'is_paid',\n",
       " 'price',\n",
       " 'num_subscribers',\n",
       " 'num_reviews',\n",
       " 'num_lectures',\n",
       " 'level',\n",
       " 'content_duration',\n",
       " 'published_timestamp',\n",
       " 'subject',\n",
       " 'clean_course_title']"
      ]
     },
     "execution_count": 6,
     "metadata": {},
     "output_type": "execute_result"
    }
   ],
   "source": [
    "# Columns\n",
    "df.columns"
   ]
  },
  {
   "cell_type": "code",
   "execution_count": 7,
   "id": "180cd223",
   "metadata": {
    "jupyter": {
     "outputs_hidden": true
    },
    "tags": []
   },
   "outputs": [
    {
     "name": "stdout",
     "output_type": "stream",
     "text": [
      "+--------------------+----------------+\n",
      "|        course_title|         subject|\n",
      "+--------------------+----------------+\n",
      "|Ultimate Investme...|Business Finance|\n",
      "|Complete GST Cour...|Business Finance|\n",
      "|Financial Modelin...|Business Finance|\n",
      "|Beginner to Pro -...|Business Finance|\n",
      "|How To Maximize Y...|Business Finance|\n",
      "|Trading Penny Sto...|Business Finance|\n",
      "|Investing And Tra...|Business Finance|\n",
      "|Trading Stock Cha...|Business Finance|\n",
      "|Options Trading 3...|Business Finance|\n",
      "|The Only Investme...|Business Finance|\n",
      "|Forex Trading Sec...|Business Finance|\n",
      "|Trading Options W...|Business Finance|\n",
      "|Financial Managem...|Business Finance|\n",
      "|Forex Trading Cou...|Business Finance|\n",
      "|Python Algo Tradi...|Business Finance|\n",
      "|Short Selling: Le...|Business Finance|\n",
      "|Basic Technical A...|Business Finance|\n",
      "|The Complete Char...|Business Finance|\n",
      "|7 Deadly Mistakes...|Business Finance|\n",
      "|Financial Stateme...|Business Finance|\n",
      "+--------------------+----------------+\n",
      "only showing top 20 rows\n",
      "\n"
     ]
    }
   ],
   "source": [
    "# Select Columns\n",
    "df.select('course_title','subject').show()"
   ]
  },
  {
   "cell_type": "code",
   "execution_count": 8,
   "id": "8f048160",
   "metadata": {},
   "outputs": [],
   "source": [
    "df = df.select('course_title','subject')"
   ]
  },
  {
   "cell_type": "code",
   "execution_count": 9,
   "id": "b9f73b19",
   "metadata": {},
   "outputs": [
    {
     "name": "stdout",
     "output_type": "stream",
     "text": [
      "+--------------------+----------------+\n",
      "|        course_title|         subject|\n",
      "+--------------------+----------------+\n",
      "|Ultimate Investme...|Business Finance|\n",
      "|Complete GST Cour...|Business Finance|\n",
      "|Financial Modelin...|Business Finance|\n",
      "|Beginner to Pro -...|Business Finance|\n",
      "|How To Maximize Y...|Business Finance|\n",
      "+--------------------+----------------+\n",
      "only showing top 5 rows\n",
      "\n"
     ]
    }
   ],
   "source": [
    "df.show(5)"
   ]
  },
  {
   "cell_type": "code",
   "execution_count": 10,
   "id": "cf16def4",
   "metadata": {
    "jupyter": {
     "outputs_hidden": true
    },
    "tags": []
   },
   "outputs": [
    {
     "name": "stdout",
     "output_type": "stream",
     "text": [
      "+--------------------+-----+\n",
      "|             subject|count|\n",
      "+--------------------+-----+\n",
      "|play Electric Gui...|    1|\n",
      "|Multiply returns ...|    1|\n",
      "|                null|    6|\n",
      "|    Business Finance| 1198|\n",
      "|Introduction Guit...|    1|\n",
      "|Learn Play Fernan...|    1|\n",
      "|      Graphic Design|  603|\n",
      "|Aprende tocar el ...|    1|\n",
      "|     Web Development| 1200|\n",
      "|Learn Classical G...|    1|\n",
      "| Musical Instruments|  676|\n",
      "+--------------------+-----+\n",
      "\n"
     ]
    }
   ],
   "source": [
    "# Value Counts\n",
    "df.groupBy('subject').count().show()"
   ]
  },
  {
   "cell_type": "code",
   "execution_count": 11,
   "id": "a781e4d2",
   "metadata": {
    "jupyter": {
     "outputs_hidden": true
    },
    "tags": []
   },
   "outputs": [
    {
     "data": {
      "text/plain": [
       "Web Development                                                                                                                                                                                              1200\n",
       "Business Finance                                                                                                                                                                                             1198\n",
       "Musical Instruments                                                                                                                                                                                           676\n",
       "Graphic Design                                                                                                                                                                                                603\n",
       "Multiply returns Value Investinghttpswwwudemycommultiplyyourreturnsusingvalueinvestingtrue2019421963All Levels45 hours20150723T000833Z 874284Weekly Forex Analysis Baraq FX                                     1\n",
       "Learn Play Fernando Sors Study B minorhttpswwwudemycomstudyinbminortrue115140359Intermediate Level43 mins20140127T205816Z 398746Piano Chord Based System  Learn Play Pros Do                                    1\n",
       "play Electric Guitarhttpswwwudemycomelectricguitarbeginnersmethodtrue501105520Beginner Level2 hours20161229T002406Z 42038Learn Piano Today Play Piano Course Quick Lessons                                      1\n",
       "Learn Classical Guitar Technique play Spanish Romancehttpswwwudemycomguitartechniquestrue19513164643All Levels5 hours20131118T175959Z 265888Learn Guitar Worship Learn 4 Songs unlock 1                         1\n",
       "Introduction Guitar A Course Beginnershttpswwwudemycomintroductiontoguitartrue251631156Beginner Level25 hours20141030T155939Z 650804Guitar Master Class Learning Play Guitar Z                                  1\n",
       "Aprende tocar el Acorden de odo con tcnicahttpswwwudemycomaprendeatocarelacordeondeoidoycontecnicatrue25932134Beginner Level4 hours20140916T195145Z 263432Aprende los Secretos de la Armnica con HARPSOUL       1\n",
       "Name: subject, dtype: int64"
      ]
     },
     "execution_count": 11,
     "metadata": {},
     "output_type": "execute_result"
    }
   ],
   "source": [
    "# Value Counts via pandas\n",
    "df.toPandas()['subject'].value_counts()"
   ]
  },
  {
   "cell_type": "code",
   "execution_count": 12,
   "id": "4bcf36b9",
   "metadata": {},
   "outputs": [
    {
     "data": {
      "text/plain": [
       "6"
      ]
     },
     "execution_count": 12,
     "metadata": {},
     "output_type": "execute_result"
    }
   ],
   "source": [
    "# Check For Missing Values\n",
    "df.toPandas()['subject'].isnull().sum()"
   ]
  },
  {
   "cell_type": "code",
   "execution_count": 13,
   "id": "39f44883",
   "metadata": {},
   "outputs": [],
   "source": [
    "# Drop Missing Values\n",
    "df = df.dropna(subset=('subject'))"
   ]
  },
  {
   "cell_type": "code",
   "execution_count": 14,
   "id": "eb96ae76",
   "metadata": {},
   "outputs": [
    {
     "data": {
      "text/plain": [
       "0"
      ]
     },
     "execution_count": 14,
     "metadata": {},
     "output_type": "execute_result"
    }
   ],
   "source": [
    "# Check For Missing Values\n",
    "df.toPandas()['subject'].isnull().sum()"
   ]
  },
  {
   "cell_type": "code",
   "execution_count": 15,
   "id": "4c58d1cd",
   "metadata": {},
   "outputs": [
    {
     "name": "stdout",
     "output_type": "stream",
     "text": [
      "+--------------------+----------------+\n",
      "|        course_title|         subject|\n",
      "+--------------------+----------------+\n",
      "|Ultimate Investme...|Business Finance|\n",
      "|Complete GST Cour...|Business Finance|\n",
      "|Financial Modelin...|Business Finance|\n",
      "|Beginner to Pro -...|Business Finance|\n",
      "|How To Maximize Y...|Business Finance|\n",
      "+--------------------+----------------+\n",
      "only showing top 5 rows\n",
      "\n"
     ]
    }
   ],
   "source": [
    "df.show(5)"
   ]
  },
  {
   "cell_type": "markdown",
   "id": "c8e99d1b",
   "metadata": {},
   "source": [
    "### Feature Extraction\n",
    "#### Build Features From Text\n",
    "+ CountVectorizer\n",
    "+ TFIDF\n",
    "+ WordEmbedding\n",
    "+ HashingTF\n",
    "+ etc"
   ]
  },
  {
   "cell_type": "code",
   "execution_count": 16,
   "id": "41065f6e",
   "metadata": {},
   "outputs": [],
   "source": [
    "# Load Our Pkgs\n",
    "import pyspark.ml.feature"
   ]
  },
  {
   "cell_type": "code",
   "execution_count": 17,
   "id": "a8e51c07",
   "metadata": {
    "jupyter": {
     "outputs_hidden": true
    },
    "tags": []
   },
   "outputs": [
    {
     "data": {
      "text/plain": [
       "['Binarizer',\n",
       " 'BucketedRandomProjectionLSH',\n",
       " 'BucketedRandomProjectionLSHModel',\n",
       " 'Bucketizer',\n",
       " 'ChiSqSelector',\n",
       " 'ChiSqSelectorModel',\n",
       " 'CountVectorizer',\n",
       " 'CountVectorizerModel',\n",
       " 'DCT',\n",
       " 'ElementwiseProduct',\n",
       " 'FeatureHasher',\n",
       " 'HasAggregationDepth',\n",
       " 'HasBlockSize',\n",
       " 'HasCheckpointInterval',\n",
       " 'HasCollectSubModels',\n",
       " 'HasDistanceMeasure',\n",
       " 'HasElasticNetParam',\n",
       " 'HasFeaturesCol',\n",
       " 'HasFitIntercept',\n",
       " 'HasHandleInvalid',\n",
       " 'HasInputCol',\n",
       " 'HasInputCols',\n",
       " 'HasLabelCol',\n",
       " 'HasLoss',\n",
       " 'HasMaxIter',\n",
       " 'HasNumFeatures',\n",
       " 'HasOutputCol',\n",
       " 'HasOutputCols',\n",
       " 'HasParallelism',\n",
       " 'HasPredictionCol',\n",
       " 'HasProbabilityCol',\n",
       " 'HasRawPredictionCol',\n",
       " 'HasRegParam',\n",
       " 'HasRelativeError',\n",
       " 'HasSeed',\n",
       " 'HasSolver',\n",
       " 'HasStandardization',\n",
       " 'HasStepSize',\n",
       " 'HasThreshold',\n",
       " 'HasThresholds',\n",
       " 'HasTol',\n",
       " 'HasValidationIndicatorCol',\n",
       " 'HasVarianceCol',\n",
       " 'HasWeightCol',\n",
       " 'HashingTF',\n",
       " 'IDF',\n",
       " 'IDFModel',\n",
       " 'Imputer',\n",
       " 'ImputerModel',\n",
       " 'IndexToString',\n",
       " 'Interaction',\n",
       " 'JavaEstimator',\n",
       " 'JavaMLReadable',\n",
       " 'JavaMLWritable',\n",
       " 'JavaModel',\n",
       " 'JavaParams',\n",
       " 'JavaTransformer',\n",
       " 'MaxAbsScaler',\n",
       " 'MaxAbsScalerModel',\n",
       " 'MinHashLSH',\n",
       " 'MinHashLSHModel',\n",
       " 'MinMaxScaler',\n",
       " 'MinMaxScalerModel',\n",
       " 'NGram',\n",
       " 'Normalizer',\n",
       " 'OneHotEncoder',\n",
       " 'OneHotEncoderModel',\n",
       " 'PCA',\n",
       " 'PCAModel',\n",
       " 'Param',\n",
       " 'Params',\n",
       " 'PolynomialExpansion',\n",
       " 'QuantileDiscretizer',\n",
       " 'RFormula',\n",
       " 'RFormulaModel',\n",
       " 'RegexTokenizer',\n",
       " 'RobustScaler',\n",
       " 'RobustScalerModel',\n",
       " 'SQLTransformer',\n",
       " 'SparkContext',\n",
       " 'StandardScaler',\n",
       " 'StandardScalerModel',\n",
       " 'StopWordsRemover',\n",
       " 'StringIndexer',\n",
       " 'StringIndexerModel',\n",
       " 'Tokenizer',\n",
       " 'TypeConverters',\n",
       " 'VectorAssembler',\n",
       " 'VectorIndexer',\n",
       " 'VectorIndexerModel',\n",
       " 'VectorSizeHint',\n",
       " 'VectorSlicer',\n",
       " 'Word2Vec',\n",
       " 'Word2VecModel',\n",
       " '_BucketedRandomProjectionLSHParams',\n",
       " '_ChiSqSelectorParams',\n",
       " '_CountVectorizerParams',\n",
       " '_IDFParams',\n",
       " '_ImputerParams',\n",
       " '_LSH',\n",
       " '_LSHModel',\n",
       " '_LSHParams',\n",
       " '_MaxAbsScalerParams',\n",
       " '_MinMaxScalerParams',\n",
       " '_OneHotEncoderParams',\n",
       " '_PCAParams',\n",
       " '_RFormulaParams',\n",
       " '_RobustScalerParams',\n",
       " '_StandardScalerParams',\n",
       " '_StringIndexerParams',\n",
       " '_VectorIndexerParams',\n",
       " '_Word2VecParams',\n",
       " '__all__',\n",
       " '__builtins__',\n",
       " '__cached__',\n",
       " '__doc__',\n",
       " '__file__',\n",
       " '__loader__',\n",
       " '__name__',\n",
       " '__package__',\n",
       " '__spec__',\n",
       " '_convert_to_vector',\n",
       " '_jvm',\n",
       " 'basestring',\n",
       " 'ignore_unicode_prefix',\n",
       " 'inherit_doc',\n",
       " 'keyword_only',\n",
       " 'since',\n",
       " 'sys']"
      ]
     },
     "execution_count": 17,
     "metadata": {},
     "output_type": "execute_result"
    }
   ],
   "source": [
    "dir(pyspark.ml.feature)"
   ]
  },
  {
   "cell_type": "code",
   "execution_count": 18,
   "id": "22830a8f",
   "metadata": {},
   "outputs": [],
   "source": [
    "# Load Our Transformer & Extractor Pkgs\n",
    "from pyspark.ml.feature import Tokenizer,StopWordsRemover,CountVectorizer,IDF\n",
    "from pyspark.ml.feature import StringIndexer"
   ]
  },
  {
   "cell_type": "code",
   "execution_count": 19,
   "id": "5d3d1412",
   "metadata": {},
   "outputs": [
    {
     "name": "stdout",
     "output_type": "stream",
     "text": [
      "+--------------------+----------------+\n",
      "|        course_title|         subject|\n",
      "+--------------------+----------------+\n",
      "|Ultimate Investme...|Business Finance|\n",
      "|Complete GST Cour...|Business Finance|\n",
      "|Financial Modelin...|Business Finance|\n",
      "|Beginner to Pro -...|Business Finance|\n",
      "|How To Maximize Y...|Business Finance|\n",
      "+--------------------+----------------+\n",
      "only showing top 5 rows\n",
      "\n"
     ]
    }
   ],
   "source": [
    "df.show(5)"
   ]
  },
  {
   "cell_type": "code",
   "execution_count": 20,
   "id": "f1a815f9",
   "metadata": {},
   "outputs": [],
   "source": [
    "# Stages For the Pipeline\n",
    "tokenizer = Tokenizer(inputCol='course_title',outputCol='mytokens')\n",
    "stopwords_remover = StopWordsRemover(inputCol='mytokens',outputCol='filtered_tokens')\n",
    "vectorizer = CountVectorizer(inputCol='filtered_tokens',outputCol='rawFeatures')\n",
    "idf = IDF(inputCol='rawFeatures',outputCol='vectorizedFeatures')\n",
    "\n"
   ]
  },
  {
   "cell_type": "code",
   "execution_count": 21,
   "id": "d00916f0",
   "metadata": {},
   "outputs": [],
   "source": [
    "# LabelEncoding/LabelIndexing\n",
    "labelEncoder = StringIndexer(inputCol='subject',outputCol='label').fit(df)"
   ]
  },
  {
   "cell_type": "code",
   "execution_count": 22,
   "id": "57cff13a",
   "metadata": {},
   "outputs": [
    {
     "name": "stdout",
     "output_type": "stream",
     "text": [
      "+--------------------+----------------+-----+\n",
      "|        course_title|         subject|label|\n",
      "+--------------------+----------------+-----+\n",
      "|Ultimate Investme...|Business Finance|  1.0|\n",
      "|Complete GST Cour...|Business Finance|  1.0|\n",
      "|Financial Modelin...|Business Finance|  1.0|\n",
      "|Beginner to Pro -...|Business Finance|  1.0|\n",
      "|How To Maximize Y...|Business Finance|  1.0|\n",
      "+--------------------+----------------+-----+\n",
      "only showing top 5 rows\n",
      "\n"
     ]
    }
   ],
   "source": [
    "labelEncoder.transform(df).show(5)"
   ]
  },
  {
   "cell_type": "code",
   "execution_count": 23,
   "id": "3448422c",
   "metadata": {},
   "outputs": [
    {
     "data": {
      "text/plain": [
       "['Web Development',\n",
       " 'Business Finance',\n",
       " 'Musical Instruments',\n",
       " 'Graphic Design',\n",
       " 'Aprende tocar el Acorden de odo con tcnicahttpswwwudemycomaprendeatocarelacordeondeoidoycontecnicatrue25932134Beginner Level4 hours20140916T195145Z 263432Aprende los Secretos de la Armnica con HARPSOUL',\n",
       " 'Introduction Guitar A Course Beginnershttpswwwudemycomintroductiontoguitartrue251631156Beginner Level25 hours20141030T155939Z 650804Guitar Master Class Learning Play Guitar Z',\n",
       " 'Learn Classical Guitar Technique play Spanish Romancehttpswwwudemycomguitartechniquestrue19513164643All Levels5 hours20131118T175959Z 265888Learn Guitar Worship Learn 4 Songs unlock 1',\n",
       " 'Learn Play Fernando Sors Study B minorhttpswwwudemycomstudyinbminortrue115140359Intermediate Level43 mins20140127T205816Z 398746Piano Chord Based System  Learn Play Pros Do',\n",
       " 'Multiply returns Value Investinghttpswwwudemycommultiplyyourreturnsusingvalueinvestingtrue2019421963All Levels45 hours20150723T000833Z 874284Weekly Forex Analysis Baraq FX',\n",
       " 'play Electric Guitarhttpswwwudemycomelectricguitarbeginnersmethodtrue501105520Beginner Level2 hours20161229T002406Z 42038Learn Piano Today Play Piano Course Quick Lessons']"
      ]
     },
     "execution_count": 23,
     "metadata": {},
     "output_type": "execute_result"
    }
   ],
   "source": [
    "labelEncoder.labels"
   ]
  },
  {
   "cell_type": "code",
   "execution_count": 24,
   "id": "3e79e334",
   "metadata": {},
   "outputs": [],
   "source": [
    "# Dict of Labels\n",
    "label_dict = {'Web Development':0.0,\n",
    " 'Business Finance':1.0,\n",
    " 'Musical Instruments':2.0,\n",
    " 'Graphic Design':3.0}"
   ]
  },
  {
   "cell_type": "code",
   "execution_count": 25,
   "id": "4068b041",
   "metadata": {
    "jupyter": {
     "outputs_hidden": true
    },
    "tags": []
   },
   "outputs": [
    {
     "name": "stdout",
     "output_type": "stream",
     "text": [
      "+--------------------+----------------+\n",
      "|        course_title|         subject|\n",
      "+--------------------+----------------+\n",
      "|Ultimate Investme...|Business Finance|\n",
      "|Complete GST Cour...|Business Finance|\n",
      "|Financial Modelin...|Business Finance|\n",
      "|Beginner to Pro -...|Business Finance|\n",
      "|How To Maximize Y...|Business Finance|\n",
      "|Trading Penny Sto...|Business Finance|\n",
      "|Investing And Tra...|Business Finance|\n",
      "|Trading Stock Cha...|Business Finance|\n",
      "|Options Trading 3...|Business Finance|\n",
      "|The Only Investme...|Business Finance|\n",
      "|Forex Trading Sec...|Business Finance|\n",
      "|Trading Options W...|Business Finance|\n",
      "|Financial Managem...|Business Finance|\n",
      "|Forex Trading Cou...|Business Finance|\n",
      "|Python Algo Tradi...|Business Finance|\n",
      "|Short Selling: Le...|Business Finance|\n",
      "|Basic Technical A...|Business Finance|\n",
      "|The Complete Char...|Business Finance|\n",
      "|7 Deadly Mistakes...|Business Finance|\n",
      "|Financial Stateme...|Business Finance|\n",
      "+--------------------+----------------+\n",
      "only showing top 20 rows\n",
      "\n"
     ]
    }
   ],
   "source": [
    "df.show()"
   ]
  },
  {
   "cell_type": "code",
   "execution_count": 26,
   "id": "35d96320",
   "metadata": {},
   "outputs": [],
   "source": [
    "df = labelEncoder.transform(df)"
   ]
  },
  {
   "cell_type": "code",
   "execution_count": 27,
   "id": "d4572a11",
   "metadata": {},
   "outputs": [
    {
     "name": "stdout",
     "output_type": "stream",
     "text": [
      "+--------------------+----------------+-----+\n",
      "|        course_title|         subject|label|\n",
      "+--------------------+----------------+-----+\n",
      "|Ultimate Investme...|Business Finance|  1.0|\n",
      "|Complete GST Cour...|Business Finance|  1.0|\n",
      "|Financial Modelin...|Business Finance|  1.0|\n",
      "|Beginner to Pro -...|Business Finance|  1.0|\n",
      "|How To Maximize Y...|Business Finance|  1.0|\n",
      "+--------------------+----------------+-----+\n",
      "only showing top 5 rows\n",
      "\n"
     ]
    }
   ],
   "source": [
    "df.show(5)"
   ]
  },
  {
   "cell_type": "code",
   "execution_count": 28,
   "id": "d861511e",
   "metadata": {},
   "outputs": [],
   "source": [
    "### Split Dataset\n",
    "(trainDF,testDF) = df.randomSplit((0.7,0.3),seed=42)"
   ]
  },
  {
   "cell_type": "code",
   "execution_count": 29,
   "id": "1c9839da",
   "metadata": {},
   "outputs": [
    {
     "name": "stdout",
     "output_type": "stream",
     "text": [
      "+--------------------+--------------------+-----+\n",
      "|        course_title|             subject|label|\n",
      "+--------------------+--------------------+-----+\n",
      "|#1 Piano Hand Coo...| Musical Instruments|  2.0|\n",
      "|#10 Hand Coordina...| Musical Instruments|  2.0|\n",
      "|#4 Piano Hand Coo...| Musical Instruments|  2.0|\n",
      "|#5  Piano Hand Co...| Musical Instruments|  2.0|\n",
      "|#6 Piano Hand Coo...| Musical Instruments|  2.0|\n",
      "|'Geometry Of Chan...|    Business Finance|  1.0|\n",
      "|              000!\"\"|Learn Classical G...|  6.0|\n",
      "|1 - Concepts of S...|    Business Finance|  1.0|\n",
      "|          1 Hour CSS|     Web Development|  0.0|\n",
      "|1. Principles of ...|    Business Finance|  1.0|\n",
      "|10 Numbers Every ...|    Business Finance|  1.0|\n",
      "|10.  Bonds and Bo...|    Business Finance|  1.0|\n",
      "|101 Blues riffs -...| Musical Instruments|  2.0|\n",
      "|15 Mandamientos p...|    Business Finance|  1.0|\n",
      "|17 Complete JavaS...|     Web Development|  0.0|\n",
      "|188% Profit in 1Y...|    Business Finance|  1.0|\n",
      "|2 Easy Steps To I...|    Business Finance|  1.0|\n",
      "|3 step formula fo...| Musical Instruments|  2.0|\n",
      "|30 Day Guitar Jum...| Musical Instruments|  2.0|\n",
      "|3DS MAX - Learn 3...|      Graphic Design|  3.0|\n",
      "+--------------------+--------------------+-----+\n",
      "only showing top 20 rows\n",
      "\n"
     ]
    }
   ],
   "source": [
    "trainDF.show()"
   ]
  },
  {
   "cell_type": "code",
   "execution_count": 30,
   "id": "4a111777",
   "metadata": {},
   "outputs": [],
   "source": [
    "### Estimator\n",
    "from pyspark.ml.classification import LogisticRegression"
   ]
  },
  {
   "cell_type": "code",
   "execution_count": 31,
   "id": "ce98073a",
   "metadata": {},
   "outputs": [],
   "source": [
    "lr = LogisticRegression(featuresCol='vectorizedFeatures',labelCol='label')"
   ]
  },
  {
   "cell_type": "markdown",
   "id": "14133f11",
   "metadata": {},
   "source": [
    "#### Building the Pipeline"
   ]
  },
  {
   "cell_type": "code",
   "execution_count": 32,
   "id": "d3ba84eb",
   "metadata": {},
   "outputs": [],
   "source": [
    "from pyspark.ml import Pipeline"
   ]
  },
  {
   "cell_type": "code",
   "execution_count": 33,
   "id": "fa8b2667",
   "metadata": {},
   "outputs": [],
   "source": [
    "pipeline = Pipeline(stages=[tokenizer,stopwords_remover,vectorizer,idf,lr])"
   ]
  },
  {
   "cell_type": "code",
   "execution_count": 34,
   "id": "1c6985f7",
   "metadata": {},
   "outputs": [
    {
     "data": {
      "text/plain": [
       "Pipeline_f2ad0bfd2706"
      ]
     },
     "execution_count": 34,
     "metadata": {},
     "output_type": "execute_result"
    }
   ],
   "source": [
    "pipeline"
   ]
  },
  {
   "cell_type": "code",
   "execution_count": 35,
   "id": "de99af8d",
   "metadata": {},
   "outputs": [
    {
     "data": {
      "text/plain": [
       "Param(parent='Pipeline_f2ad0bfd2706', name='stages', doc='a list of pipeline stages')"
      ]
     },
     "execution_count": 35,
     "metadata": {},
     "output_type": "execute_result"
    }
   ],
   "source": [
    "pipeline.stages"
   ]
  },
  {
   "cell_type": "code",
   "execution_count": 36,
   "id": "50d591d8",
   "metadata": {},
   "outputs": [],
   "source": [
    "# Building MOdel\n",
    "lr_model = pipeline.fit(trainDF)"
   ]
  },
  {
   "cell_type": "code",
   "execution_count": 37,
   "id": "355ac986",
   "metadata": {},
   "outputs": [
    {
     "data": {
      "text/plain": [
       "PipelineModel_577d9ac0b9f4"
      ]
     },
     "execution_count": 37,
     "metadata": {},
     "output_type": "execute_result"
    }
   ],
   "source": [
    "lr_model"
   ]
  },
  {
   "cell_type": "code",
   "execution_count": 38,
   "id": "ef8bd7b6",
   "metadata": {},
   "outputs": [],
   "source": [
    "# Predictions on our Test Dataset\n",
    "predictions = lr_model.transform(testDF)"
   ]
  },
  {
   "cell_type": "code",
   "execution_count": 39,
   "id": "6985b3da",
   "metadata": {
    "jupyter": {
     "outputs_hidden": true
    },
    "tags": []
   },
   "outputs": [
    {
     "name": "stdout",
     "output_type": "stream",
     "text": [
      "+--------------------+-------------------+-----+--------------------+--------------------+--------------------+--------------------+--------------------+--------------------+----------+\n",
      "|        course_title|            subject|label|            mytokens|     filtered_tokens|         rawFeatures|  vectorizedFeatures|       rawPrediction|         probability|prediction|\n",
      "+--------------------+-------------------+-----+--------------------+--------------------+--------------------+--------------------+--------------------+--------------------+----------+\n",
      "|#12 Hand Coordina...|Musical Instruments|  2.0|[#12, hand, coord...|[#12, hand, coord...|(3670,[394,491,60...|(3670,[394,491,60...|[8.22575678848105...|[0.86083740537786...|       0.0|\n",
      "|#7 Piano Hand Coo...|Musical Instruments|  2.0|[#7, piano, hand,...|[#7, piano, hand,...|(3670,[9,13,60,23...|(3670,[9,13,60,23...|[-1.5816511970298...|[6.40379189781718...|       2.0|\n",
      "|'Greensleeves' Cr...|Musical Instruments|  2.0|['greensleeves', ...|['greensleeves', ...|(3670,[6,9,45,375...|(3670,[6,9,45,375...|[0.38747123622534...|[1.29430064441083...|       2.0|\n",
      "|* An Integrated A...|   Business Finance|  1.0|[*, an, integrate...|[*, integrated, a...|(3670,[23,75,435,...|(3670,[23,75,435,...|[-2.0540053506463...|[3.67476794850866...|       1.0|\n",
      "|         1 Hour HTML|    Web Development|  0.0|     [1, hour, html]|     [1, hour, html]|(3670,[24,36,110]...|(3670,[24,36,110]...|[24.7266193282993...|[0.99999999908079...|       0.0|\n",
      "|   1 Hour JavaScript|    Web Development|  0.0|[1, hour, javascr...|[1, hour, javascr...|(3670,[18,36,110]...|(3670,[18,36,110]...|[22.2213462251661...|[0.99999999175336...|       0.0|\n",
      "|       1 hour jQuery|    Web Development|  0.0|   [1, hour, jquery]|   [1, hour, jquery]|(3670,[36,62,110]...|(3670,[36,62,110]...|[20.1005546377642...|[0.99999995838555...|       0.0|\n",
      "|101 Awesome Rocka...|Musical Instruments|  2.0|[101, awesome, ro...|[101, awesome, ro...|(3670,[7,233,291,...|(3670,[7,233,291,...|[-5.9910327938842...|[2.64083766738939...|       2.0|\n",
      "|15  Motion Graphi...|     Graphic Design|  3.0|[15, , motion, gr...|[15, , motion, gr...|(3670,[35,90,434,...|(3670,[35,90,434,...|[-19.729920863489...|[4.16984026879562...|       3.0|\n",
      "|150 Rock Guitar L...|Musical Instruments|  2.0|[150, rock, guita...|[150, rock, guita...|(3670,[7,145,175,...|(3670,[7,145,175,...|[-2.6725325296966...|[9.29048167182620...|       2.0|\n",
      "|16 Guitar Chords ...|Musical Instruments|  2.0|[16, guitar, chor...|[16, guitar, chor...|(3670,[0,7,129,17...|(3670,[0,7,129,17...|[-4.2209408442158...|[6.16872666833857...|       2.0|\n",
      "|2. Principles of ...|   Business Finance|  1.0|[2., principles, ...|[2., principles, ...|(3670,[0,41,102,3...|(3670,[0,41,102,3...|[0.30936773170621...|[4.12860070022649...|       1.0|\n",
      "|3 Little Pigs: A ...|   Business Finance|  1.0|[3, little, pigs:...|[3, little, pigs:...|(3670,[2,11,60,14...|(3670,[2,11,60,14...|[-7.0300584542815...|[1.45078790150083...|       1.0|\n",
      "|3 documentos clav...|   Business Finance|  1.0|[3, documentos, c...|[3, documentos, c...|(3670,[60,89,165,...|(3670,[60,89,165,...|[5.45115805765260...|[0.06838618804088...|       1.0|\n",
      "|3. Compound Inter...|   Business Finance|  1.0|[3., compound, in...|[3., compound, in...| (3670,[1092],[1.0])|(3670,[1092],[6.7...|[2.27499356706274...|[1.84395934229012...|       1.0|\n",
      "|31 Day Guitar Cha...|Musical Instruments|  2.0|[31, day, guitar,...|[31, day, guitar,...|(3670,[7,112,1870...|(3670,[7,112,1870...|[-7.2943613577761...|[3.39187169049433...|       2.0|\n",
      "|3D Programming wi...|    Web Development|  0.0|[3d, programming,...|[3d, programming,...|(3670,[4,87,339],...|(3670,[4,87,339],...|[10.9590754768494...|[0.92279982494600...|       0.0|\n",
      "|4. Ordinary Simpl...|   Business Finance|  1.0|[4., ordinary, si...|[4., ordinary, si...|(3670,[38,102],[1...|(3670,[38,102],[3...|[3.28529702363686...|[0.00187020497962...|       1.0|\n",
      "|5 lecciones que t...|Musical Instruments|  2.0|[5, lecciones, qu...|[5, lecciones, qu...|(3670,[82,3515],[...|(3670,[82,3515],[...|[6.87549500361911...|[0.90133433872550...|       0.0|\n",
      "|6 Must Know Trick...|Musical Instruments|  2.0|[6, must, know, t...|[6, must, know, t...|(3670,[145,255,32...|(3670,[145,255,32...|[14.2460416600723...|[0.99572595700414...|       0.0|\n",
      "+--------------------+-------------------+-----+--------------------+--------------------+--------------------+--------------------+--------------------+--------------------+----------+\n",
      "only showing top 20 rows\n",
      "\n"
     ]
    }
   ],
   "source": [
    "predictions.show()"
   ]
  },
  {
   "cell_type": "code",
   "execution_count": 40,
   "id": "f41f9d05",
   "metadata": {},
   "outputs": [
    {
     "data": {
      "text/plain": [
       "['course_title',\n",
       " 'subject',\n",
       " 'label',\n",
       " 'mytokens',\n",
       " 'filtered_tokens',\n",
       " 'rawFeatures',\n",
       " 'vectorizedFeatures',\n",
       " 'rawPrediction',\n",
       " 'probability',\n",
       " 'prediction']"
      ]
     },
     "execution_count": 40,
     "metadata": {},
     "output_type": "execute_result"
    }
   ],
   "source": [
    "# Select Columns\n",
    "predictions.columns"
   ]
  },
  {
   "cell_type": "code",
   "execution_count": 41,
   "id": "e3a8f531",
   "metadata": {},
   "outputs": [
    {
     "name": "stdout",
     "output_type": "stream",
     "text": [
      "+--------------------+--------------------+-------------------+-----+----------+\n",
      "|       rawPrediction|         probability|            subject|label|prediction|\n",
      "+--------------------+--------------------+-------------------+-----+----------+\n",
      "|[8.22575678848105...|[0.86083740537786...|Musical Instruments|  2.0|       0.0|\n",
      "|[-1.5816511970298...|[6.40379189781718...|Musical Instruments|  2.0|       2.0|\n",
      "|[0.38747123622534...|[1.29430064441083...|Musical Instruments|  2.0|       2.0|\n",
      "|[-2.0540053506463...|[3.67476794850866...|   Business Finance|  1.0|       1.0|\n",
      "|[24.7266193282993...|[0.99999999908079...|    Web Development|  0.0|       0.0|\n",
      "|[22.2213462251661...|[0.99999999175336...|    Web Development|  0.0|       0.0|\n",
      "|[20.1005546377642...|[0.99999995838555...|    Web Development|  0.0|       0.0|\n",
      "|[-5.9910327938842...|[2.64083766738939...|Musical Instruments|  2.0|       2.0|\n",
      "|[-19.729920863489...|[4.16984026879562...|     Graphic Design|  3.0|       3.0|\n",
      "|[-2.6725325296966...|[9.29048167182620...|Musical Instruments|  2.0|       2.0|\n",
      "+--------------------+--------------------+-------------------+-----+----------+\n",
      "only showing top 10 rows\n",
      "\n"
     ]
    }
   ],
   "source": [
    "predictions.select('rawPrediction','probability','subject','label','prediction').show(10)"
   ]
  },
  {
   "cell_type": "code",
   "execution_count": 43,
   "id": "f9204943",
   "metadata": {},
   "outputs": [
    {
     "ename": "NameError",
     "evalue": "name 'accuracy' is not defined",
     "output_type": "error",
     "traceback": [
      "\u001b[1;31m---------------------------------------------------------------------------\u001b[0m",
      "\u001b[1;31mNameError\u001b[0m                                 Traceback (most recent call last)",
      "\u001b[1;32m~\\AppData\\Local\\Temp/ipykernel_10608/910454281.py\u001b[0m in \u001b[0;36m<module>\u001b[1;34m\u001b[0m\n\u001b[0;32m      1\u001b[0m \u001b[1;31m### Model Evaluation\u001b[0m\u001b[1;33m\u001b[0m\u001b[1;33m\u001b[0m\u001b[1;33m\u001b[0m\u001b[0m\n\u001b[1;32m----> 2\u001b[1;33m \u001b[1;33m+\u001b[0m \u001b[0maccuracy\u001b[0m\u001b[1;33m\u001b[0m\u001b[1;33m\u001b[0m\u001b[0m\n\u001b[0m\u001b[0;32m      3\u001b[0m \u001b[1;33m+\u001b[0m \u001b[0mPrecision\u001b[0m\u001b[1;33m\u001b[0m\u001b[1;33m\u001b[0m\u001b[0m\n\u001b[0;32m      4\u001b[0m \u001b[1;33m+\u001b[0m \u001b[0mF1score\u001b[0m\u001b[1;33m\u001b[0m\u001b[1;33m\u001b[0m\u001b[0m\n\u001b[0;32m      5\u001b[0m \u001b[1;33m+\u001b[0m \u001b[0metc\u001b[0m\u001b[1;33m\u001b[0m\u001b[1;33m\u001b[0m\u001b[0m\n",
      "\u001b[1;31mNameError\u001b[0m: name 'accuracy' is not defined"
     ]
    }
   ],
   "source": [
    "### Model Evaluation\n",
    "# + Accuracy\n",
    "# + Precision\n",
    "# + F1score\n",
    "# + etc\n"
   ]
  },
  {
   "cell_type": "code",
   "execution_count": 44,
   "id": "b099e3fe",
   "metadata": {},
   "outputs": [],
   "source": [
    "from pyspark.ml.evaluation import MulticlassClassificationEvaluator"
   ]
  },
  {
   "cell_type": "code",
   "execution_count": 45,
   "id": "89d607ca",
   "metadata": {},
   "outputs": [],
   "source": [
    "evaluator = MulticlassClassificationEvaluator(labelCol='label',predictionCol='prediction',metricName='accuracy')"
   ]
  },
  {
   "cell_type": "code",
   "execution_count": 46,
   "id": "58eca72a",
   "metadata": {},
   "outputs": [],
   "source": [
    "accuracy = evaluator.evaluate(predictions)"
   ]
  },
  {
   "cell_type": "code",
   "execution_count": 47,
   "id": "dedeef84",
   "metadata": {},
   "outputs": [
    {
     "data": {
      "text/plain": [
       "0.9163498098859315"
      ]
     },
     "execution_count": 47,
     "metadata": {},
     "output_type": "execute_result"
    }
   ],
   "source": [
    "accuracy"
   ]
  },
  {
   "cell_type": "code",
   "execution_count": 48,
   "id": "6dcfd34b",
   "metadata": {},
   "outputs": [],
   "source": [
    "#### Method 2: Precision. F1Score (Classification Report)\n",
    "from pyspark.mllib.evaluation import MulticlassMetrics"
   ]
  },
  {
   "cell_type": "code",
   "execution_count": 49,
   "id": "b9a02da2",
   "metadata": {},
   "outputs": [],
   "source": [
    "lr_metric = MulticlassMetrics(predictions['label','prediction'].rdd)"
   ]
  },
  {
   "cell_type": "code",
   "execution_count": 50,
   "id": "644949b3",
   "metadata": {},
   "outputs": [
    {
     "name": "stdout",
     "output_type": "stream",
     "text": [
      "Accuracy: 0.9163498098859315\n",
      "Precision: 0.9544159544159544\n",
      "Recall: 0.8792650918635171\n",
      "F1Score: 0.9153005464480874\n"
     ]
    }
   ],
   "source": [
    "print(\"Accuracy:\",lr_metric.accuracy)\n",
    "print(\"Precision:\",lr_metric.precision(1.0))\n",
    "print(\"Recall:\",lr_metric.recall(1.0))\n",
    "print(\"F1Score:\",lr_metric.fMeasure(1.0))"
   ]
  },
  {
   "cell_type": "markdown",
   "id": "1219cb6f",
   "metadata": {},
   "source": [
    "### Confusion Matrix\n",
    "+ convert to pandas\n",
    "+ sklearn"
   ]
  },
  {
   "cell_type": "code",
   "execution_count": 51,
   "id": "48c7de29",
   "metadata": {},
   "outputs": [],
   "source": [
    "y_true = predictions.select('label')\n",
    "y_true = y_true.toPandas()\n",
    "y_pred = predictions.select('prediction')\n",
    "y_pred = y_pred.toPandas()"
   ]
  },
  {
   "cell_type": "code",
   "execution_count": 52,
   "id": "ce0f3a17",
   "metadata": {},
   "outputs": [],
   "source": [
    "from sklearn.metrics import confusion_matrix,classification_report"
   ]
  },
  {
   "cell_type": "code",
   "execution_count": 53,
   "id": "b317cf4d",
   "metadata": {},
   "outputs": [],
   "source": [
    "cm = confusion_matrix(y_true,y_pred)"
   ]
  },
  {
   "cell_type": "code",
   "execution_count": 54,
   "id": "34e0573c",
   "metadata": {},
   "outputs": [
    {
     "data": {
      "text/plain": [
       "array([[317,  14,   1,   4,   0,   0],\n",
       "       [ 11, 335,   3,   2,   0,   0],\n",
       "       [  8,  13, 156,   1,   0,   0],\n",
       "       [  8,  17,   4, 156,   0,   0],\n",
       "       [  0,   1,   0,   0,   0,   0],\n",
       "       [  0,   1,   0,   0,   0,   0]], dtype=int64)"
      ]
     },
     "execution_count": 54,
     "metadata": {},
     "output_type": "execute_result"
    }
   ],
   "source": [
    "cm"
   ]
  },
  {
   "cell_type": "code",
   "execution_count": 55,
   "id": "1006901c",
   "metadata": {},
   "outputs": [],
   "source": [
    "import matplotlib.pyplot as plt\n",
    "import numpy as np\n",
    "import itertools\n",
    "\n",
    "def plot_confusion_matrix(cm, classes,\n",
    "                          normalize=False,\n",
    "                          title='Confusion matrix',\n",
    "                          cmap=plt.cm.Blues):\n",
    "    \"\"\"\n",
    "    This function prints and plots the confusion matrix.\n",
    "    Normalization can be applied by setting `normalize=True`.\n",
    "    \"\"\"\n",
    "    if normalize:\n",
    "        cm = cm.astype('float') / cm.sum(axis=1)[:, np.newaxis]\n",
    "        print(\"Normalized confusion matrix\")\n",
    "    else:\n",
    "        print('Confusion matrix, without normalization')\n",
    "\n",
    "    print(cm)\n",
    "\n",
    "    plt.imshow(cm, interpolation='nearest', cmap=cmap)\n",
    "    plt.title(title)\n",
    "    plt.colorbar()\n",
    "    tick_marks = np.arange(len(classes))\n",
    "    plt.xticks(tick_marks, classes, rotation=45)\n",
    "    plt.yticks(tick_marks, classes)\n",
    "\n",
    "    fmt = '.2f' if normalize else 'd'\n",
    "    thresh = cm.max() / 2.\n",
    "    for i, j in itertools.product(range(cm.shape[0]), range(cm.shape[1])):\n",
    "        plt.text(j, i, format(cm[i, j], fmt),\n",
    "                 horizontalalignment=\"center\",\n",
    "                 color=\"white\" if cm[i, j] > thresh else \"black\")\n",
    "\n",
    "    plt.tight_layout()\n",
    "    plt.ylabel('True label')\n",
    "    plt.xlabel('Predicted label')\n"
   ]
  },
  {
   "cell_type": "code",
   "execution_count": 56,
   "id": "98f79a62",
   "metadata": {},
   "outputs": [
    {
     "data": {
      "text/plain": [
       "dict_keys(['Web Development', 'Business Finance', 'Musical Instruments', 'Graphic Design'])"
      ]
     },
     "execution_count": 56,
     "metadata": {},
     "output_type": "execute_result"
    }
   ],
   "source": [
    "label_dict.keys()"
   ]
  },
  {
   "cell_type": "code",
   "execution_count": 57,
   "id": "8d93dc18",
   "metadata": {},
   "outputs": [],
   "source": [
    "class_names = ['Web Development', 'Business Finance', 'Musical Instruments', 'Graphic Design','N4','N5']"
   ]
  },
  {
   "cell_type": "code",
   "execution_count": 58,
   "id": "982fd3be",
   "metadata": {},
   "outputs": [
    {
     "name": "stdout",
     "output_type": "stream",
     "text": [
      "Confusion matrix, without normalization\n",
      "[[317  14   1   4   0   0]\n",
      " [ 11 335   3   2   0   0]\n",
      " [  8  13 156   1   0   0]\n",
      " [  8  17   4 156   0   0]\n",
      " [  0   1   0   0   0   0]\n",
      " [  0   1   0   0   0   0]]\n"
     ]
    },
    {
     "data": {
      "image/png": "[encoded data removed]",
      "text/plain": [
       "<Figure size 432x288 with 2 Axes>"
      ]
     },
     "metadata": {
      "needs_background": "light"
     },
     "output_type": "display_data"
    }
   ],
   "source": [
    "plot_confusion_matrix(cm,class_names)"
   ]
  },
  {
   "cell_type": "code",
   "execution_count": 59,
   "id": "f5a48700",
   "metadata": {},
   "outputs": [],
   "source": [
    "import warnings\n",
    "warnings.filterwarnings('ignore')"
   ]
  },
  {
   "cell_type": "code",
   "execution_count": 60,
   "id": "d9ae8d8e",
   "metadata": {
    "tags": []
   },
   "outputs": [
    {
     "name": "stdout",
     "output_type": "stream",
     "text": [
      "              precision    recall  f1-score   support\n",
      "\n",
      "         0.0       0.92      0.94      0.93       336\n",
      "         1.0       0.88      0.95      0.92       351\n",
      "         2.0       0.95      0.88      0.91       178\n",
      "         3.0       0.96      0.84      0.90       185\n",
      "         5.0       0.00      0.00      0.00         1\n",
      "         8.0       0.00      0.00      0.00         1\n",
      "\n",
      "    accuracy                           0.92      1052\n",
      "   macro avg       0.62      0.60      0.61      1052\n",
      "weighted avg       0.92      0.92      0.92      1052\n",
      "\n"
     ]
    }
   ],
   "source": [
    "# Classication Report\n",
    "print(classification_report(y_true,y_pred))"
   ]
  },
  {
   "cell_type": "code",
   "execution_count": 61,
   "id": "f754da0e",
   "metadata": {},
   "outputs": [
    {
     "name": "stdout",
     "output_type": "stream",
     "text": [
      "                     precision    recall  f1-score   support\n",
      "\n",
      "    Web Development       0.92      0.94      0.93       336\n",
      "   Business Finance       0.88      0.95      0.92       351\n",
      "Musical Instruments       0.95      0.88      0.91       178\n",
      "     Graphic Design       0.96      0.84      0.90       185\n",
      "                 N4       0.00      0.00      0.00         1\n",
      "                 N5       0.00      0.00      0.00         1\n",
      "\n",
      "           accuracy                           0.92      1052\n",
      "          macro avg       0.62      0.60      0.61      1052\n",
      "       weighted avg       0.92      0.92      0.92      1052\n",
      "\n"
     ]
    }
   ],
   "source": [
    "# Classication Report\n",
    "print(classification_report(y_true,y_pred,target_names=class_names))"
   ]
  },
  {
   "cell_type": "code",
   "execution_count": 62,
   "id": "be806cf6",
   "metadata": {
    "jupyter": {
     "source_hidden": true
    },
    "tags": []
   },
   "outputs": [
    {
     "data": {
      "text/plain": [
       "<map at 0x187740d5130>"
      ]
     },
     "execution_count": 62,
     "metadata": {},
     "output_type": "execute_result"
    }
   ],
   "source": [
    "class_temp = predictions.select(\"label\").groupBy(\"label\")\\\n",
    "                        .count().sort('count', ascending=False).toPandas()\n",
    "class_temp = class_temp[\"label\"].values.tolist()\n",
    "class_names = map(str, class_temp)\n",
    "# # # print(class_name)\n",
    "class_names"
   ]
  },
  {
   "cell_type": "markdown",
   "id": "6ca14f0f",
   "metadata": {},
   "source": [
    "### Making Single Prediction\n",
    "+ sample as DF\n",
    "+ apply pipeline"
   ]
  },
  {
   "cell_type": "code",
   "execution_count": 63,
   "id": "513b35b2",
   "metadata": {},
   "outputs": [],
   "source": [
    "from pyspark.sql.types import StringType"
   ]
  },
  {
   "cell_type": "code",
   "execution_count": 64,
   "id": "cefec7d4",
   "metadata": {},
   "outputs": [],
   "source": [
    "ex1 = spark.createDataFrame([\n",
    "    (\"Building Machine Learning Apps with Python and PySpark\",StringType())\n",
    "],\n",
    "# Column Name\n",
    "[\"course_title\"]\n",
    "\n",
    ")"
   ]
  },
  {
   "cell_type": "code",
   "execution_count": 65,
   "id": "cb6fff39",
   "metadata": {},
   "outputs": [
    {
     "name": "stdout",
     "output_type": "stream",
     "text": [
      "+--------------------+---+\n",
      "|        course_title| _2|\n",
      "+--------------------+---+\n",
      "|Building Machine ...| []|\n",
      "+--------------------+---+\n",
      "\n"
     ]
    }
   ],
   "source": [
    "ex1.show()"
   ]
  },
  {
   "cell_type": "code",
   "execution_count": 66,
   "id": "ceb0bf41",
   "metadata": {},
   "outputs": [
    {
     "name": "stdout",
     "output_type": "stream",
     "text": [
      "+------------------------------------------------------+---+\n",
      "|course_title                                          |_2 |\n",
      "+------------------------------------------------------+---+\n",
      "|Building Machine Learning Apps with Python and PySpark|[] |\n",
      "+------------------------------------------------------+---+\n",
      "\n"
     ]
    }
   ],
   "source": [
    "# Show Full \n",
    "ex1.show(truncate=False)"
   ]
  },
  {
   "cell_type": "code",
   "execution_count": 67,
   "id": "de45072f",
   "metadata": {},
   "outputs": [],
   "source": [
    "# Predict\n",
    "pred_ex1 = lr_model.transform(ex1)"
   ]
  },
  {
   "cell_type": "code",
   "execution_count": 68,
   "id": "f6e8e7bb",
   "metadata": {},
   "outputs": [
    {
     "name": "stdout",
     "output_type": "stream",
     "text": [
      "+--------------------+---+--------------------+--------------------+--------------------+--------------------+--------------------+--------------------+----------+\n",
      "|        course_title| _2|            mytokens|     filtered_tokens|         rawFeatures|  vectorizedFeatures|       rawPrediction|         probability|prediction|\n",
      "+--------------------+---+--------------------+--------------------+--------------------+--------------------+--------------------+--------------------+----------+\n",
      "|Building Machine ...| []|[building, machin...|[building, machin...|(3670,[57,79,115,...|(3670,[57,79,115,...|[14.6893212262629...|[0.99999805300087...|       0.0|\n",
      "+--------------------+---+--------------------+--------------------+--------------------+--------------------+--------------------+--------------------+----------+\n",
      "\n"
     ]
    }
   ],
   "source": [
    "pred_ex1.show()"
   ]
  },
  {
   "cell_type": "code",
   "execution_count": 69,
   "id": "07ef56be",
   "metadata": {},
   "outputs": [
    {
     "data": {
      "text/plain": [
       "['course_title',\n",
       " '_2',\n",
       " 'mytokens',\n",
       " 'filtered_tokens',\n",
       " 'rawFeatures',\n",
       " 'vectorizedFeatures',\n",
       " 'rawPrediction',\n",
       " 'probability',\n",
       " 'prediction']"
      ]
     },
     "execution_count": 69,
     "metadata": {},
     "output_type": "execute_result"
    }
   ],
   "source": [
    "pred_ex1.columns"
   ]
  },
  {
   "cell_type": "code",
   "execution_count": 70,
   "id": "76d5e4b1",
   "metadata": {},
   "outputs": [
    {
     "name": "stdout",
     "output_type": "stream",
     "text": [
      "+--------------------+--------------------+--------------------+----------+\n",
      "|        course_title|       rawPrediction|         probability|prediction|\n",
      "+--------------------+--------------------+--------------------+----------+\n",
      "|Building Machine ...|[14.6893212262629...|[0.99999805300087...|       0.0|\n",
      "+--------------------+--------------------+--------------------+----------+\n",
      "\n"
     ]
    }
   ],
   "source": [
    "pred_ex1.select('course_title','rawPrediction','probability','prediction').show()"
   ]
  },
  {
   "cell_type": "code",
   "execution_count": 71,
   "id": "a558274c",
   "metadata": {},
   "outputs": [
    {
     "data": {
      "text/plain": [
       "{'Web Development': 0.0,\n",
       " 'Business Finance': 1.0,\n",
       " 'Musical Instruments': 2.0,\n",
       " 'Graphic Design': 3.0}"
      ]
     },
     "execution_count": 71,
     "metadata": {},
     "output_type": "execute_result"
    }
   ],
   "source": [
    "label_dict"
   ]
  },
  {
   "cell_type": "code",
   "execution_count": 72,
   "id": "babea06c",
   "metadata": {},
   "outputs": [],
   "source": [
    "### Save and Load Model"
   ]
  },
  {
   "cell_type": "code",
   "execution_count": 73,
   "id": "cbfa3f45",
   "metadata": {},
   "outputs": [],
   "source": [
    "# Saving Model\n",
    "modelPath = \"models/pyspark_lr_model_26_Feb_2021\"\n",
    "lr_model.save(modelPath)"
   ]
  },
  {
   "cell_type": "code",
   "execution_count": 74,
   "id": "03ebd4d6",
   "metadata": {},
   "outputs": [],
   "source": [
    "# Loading pickled model via pipeline api\n",
    "from pyspark.ml.pipeline import PipelineModel\n",
    "persistedModel = PipelineModel.load(modelPath)"
   ]
  },
  {
   "cell_type": "code",
   "execution_count": 75,
   "id": "8e64fc17",
   "metadata": {},
   "outputs": [],
   "source": [
    "#### Thanks For Your Time\n",
    "#### Jesus Saves @JCharisTech\n",
    "#### Jesse E.Agbe(JCharis)\n",
    "#### Feb 26 2021"
   ]
  },
  {
   "cell_type": "code",
   "execution_count": null,
   "id": "2840b194",
   "metadata": {},
   "outputs": [],
   "source": []
  },
  {
   "cell_type": "code",
   "execution_count": null,
   "id": "6e9c3e88",
   "metadata": {},
   "outputs": [],
   "source": []
  },
  {
   "cell_type": "code",
   "execution_count": null,
   "id": "c359d838",
   "metadata": {},
   "outputs": [],
   "source": []
  }
 ],
 "metadata": {
  "kernelspec": {
   "display_name": "Python 3 (ipykernel)",
   "language": "python",
   "name": "python3"
  },
  "language_info": {
   "codemirror_mode": {
    "name": "ipython",
    "version": 3
   },
   "file_extension": ".py",
   "mimetype": "text/x-python",
   "name": "python",
   "nbconvert_exporter": "python",
   "pygments_lexer": "ipython3",
   "version": "3.9.6"
  }
 },
 "nbformat": 4,
 "nbformat_minor": 5
}
