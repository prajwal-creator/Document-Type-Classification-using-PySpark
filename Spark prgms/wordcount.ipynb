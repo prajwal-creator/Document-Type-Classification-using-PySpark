{
 "cells": [
  {
   "cell_type": "code",
   "execution_count": 1,
   "id": "d58f38ef",
   "metadata": {},
   "outputs": [
    {
     "name": "stdout",
     "output_type": "stream",
     "text": [
      "Requirement already satisfied: findspark in c:\\users\\prajw\\appdata\\local\\programs\\python\\python39\\lib\\site-packages (1.4.2)\n"
     ]
    },
    {
     "name": "stderr",
     "output_type": "stream",
     "text": [
      "WARNING: You are using pip version 21.1.3; however, version 21.3.1 is available.\n",
      "You should consider upgrading via the 'c:\\users\\prajw\\appdata\\local\\programs\\python\\python39\\python.exe -m pip install --upgrade pip' command.\n"
     ]
    }
   ],
   "source": [
    "!pip install findspark"
   ]
  },
  {
   "cell_type": "code",
   "execution_count": 2,
   "id": "6c99335f",
   "metadata": {},
   "outputs": [],
   "source": [
    "import findspark\n",
    "findspark.init()"
   ]
  },
  {
   "cell_type": "code",
   "execution_count": 3,
   "id": "e1622201",
   "metadata": {},
   "outputs": [],
   "source": [
    "from pyspark.sql import SparkSession\n",
    "spark=SparkSession.builder\\\n",
    "                          .master(\"local\")\\\n",
    "                          .appName('word count')\\\n",
    "                          .getOrCreate()\n",
    "sc=spark.sparkContext"
   ]
  },
  {
   "cell_type": "code",
   "execution_count": 4,
   "id": "5c88946b",
   "metadata": {},
   "outputs": [],
   "source": [
    "in_text=sc.textFile('Words.txt')"
   ]
  },
  {
   "cell_type": "code",
   "execution_count": 5,
   "id": "0f5eb19b",
   "metadata": {},
   "outputs": [
    {
     "data": {
      "text/plain": [
       "['i am a very very bad boy ']"
      ]
     },
     "execution_count": 5,
     "metadata": {},
     "output_type": "execute_result"
    }
   ],
   "source": [
    "in_text.collect()"
   ]
  },
  {
   "cell_type": "code",
   "execution_count": 6,
   "id": "52a61524",
   "metadata": {},
   "outputs": [],
   "source": [
    "text_flat=in_text.flatMap(lambda x: x.split(' ')).map(lambda x:(x,1)).reduceByKey(lambda x,y : x+y)"
   ]
  },
  {
   "cell_type": "code",
   "execution_count": 7,
   "id": "90c27a92",
   "metadata": {},
   "outputs": [
    {
     "data": {
      "text/plain": [
       "[('i', 1), ('am', 1), ('a', 1), ('very', 2), ('bad', 1), ('boy', 1), ('', 1)]"
      ]
     },
     "execution_count": 7,
     "metadata": {},
     "output_type": "execute_result"
    }
   ],
   "source": [
    "text_flat.collect()"
   ]
  },
  {
   "cell_type": "code",
   "execution_count": null,
   "id": "171c9ac4",
   "metadata": {},
   "outputs": [],
   "source": []
  }
 ],
 "metadata": {
  "kernelspec": {
   "display_name": "Python 3 (ipykernel)",
   "language": "python",
   "name": "python3"
  },
  "language_info": {
   "codemirror_mode": {
    "name": "ipython",
    "version": 3
   },
   "file_extension": ".py",
   "mimetype": "text/x-python",
   "name": "python",
   "nbconvert_exporter": "python",
   "pygments_lexer": "ipython3",
   "version": "3.9.6"
  }
 },
 "nbformat": 4,
 "nbformat_minor": 5
}
